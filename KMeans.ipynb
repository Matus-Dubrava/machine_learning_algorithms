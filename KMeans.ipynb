{
 "cells": [
  {
   "cell_type": "markdown",
   "metadata": {},
   "source": [
    "# KMEANS implementation"
   ]
  },
  {
   "cell_type": "code",
   "execution_count": 49,
   "metadata": {},
   "outputs": [],
   "source": [
    "import numpy as np\n",
    "import matplotlib.pyplot as plt\n",
    "plt.style.use(\"seaborn\")"
   ]
  },
  {
   "cell_type": "code",
   "execution_count": 675,
   "metadata": {},
   "outputs": [],
   "source": [
    "def print_current_state(centroids):\n",
    "    \"\"\"\n",
    "    Helper function that plots 2D centroids and vectors associated\n",
    "    to each centroid\n",
    "    \"\"\"\n",
    "    colors=[\"dodgerblue\", \"salmon\", \"green\"]\n",
    "    \n",
    "    for i, centroid in enumerate(centroids):\n",
    "        plt.scatter(centroid.assigned_vectors[:, 0], \n",
    "                    centroid.assigned_vectors[:, 1], \n",
    "                    c=colors[i],\n",
    "                    s=100)\n",
    "        plt.scatter(centroid.position[0], \n",
    "                    centroid.position[1], \n",
    "                    c=colors[i],\n",
    "                    edgecolor=\"k\",\n",
    "                    s=300)\n",
    "    plt.show()"
   ]
  },
  {
   "cell_type": "code",
   "execution_count": 685,
   "metadata": {},
   "outputs": [],
   "source": [
    "class Centroid:\n",
    "    \"\"\"\n",
    "    position - vector, position of the centroid \n",
    "    \"\"\"\n",
    "    def __init__(self, position):\n",
    "        self.position = position\n",
    "        self.assigned_vectors = []\n",
    "        \n",
    "    def __repr__(self):\n",
    "        return f\"\"\"\n",
    "        centroid: {self.position},\n",
    "        assigned_vectors: {self.assigned_vectors}\n",
    "        \"\"\"\n",
    "\n",
    "class KMeans:\n",
    "    \"\"\"\n",
    "    n_clusters - number of desired clusters\n",
    "    max_iter   - maximum number of iterations that the algorithm will make \n",
    "                 while looking for an optimal position of centroids\n",
    "    tol        - training stops as soon as none of the centroids moved more than this number \n",
    "    n_iter     - number of times that training will run from the beginning, each time computing \n",
    "                 WCSS (within cluster sum of squares), keeping the best solution\n",
    "    \"\"\"\n",
    "    def __init__(self, n_clusters=2, max_iter=300, tol=0.0001, n_init=10):\n",
    "        self.n_clusters = n_clusters\n",
    "        self.max_iter = max_iter\n",
    "        self.tol = tol\n",
    "        self.centroids = None\n",
    "        self.n_init = n_init\n",
    "        \n",
    "    @staticmethod\n",
    "    def _euclidean_distance(x, y):\n",
    "        \"\"\"compute euklidean distance between 2 vectors\"\"\"\n",
    "        \n",
    "        return np.sqrt(((x - y) ** 2).sum())\n",
    "    \n",
    "    @staticmethod\n",
    "    def _compute_wcss(centroids):\n",
    "        \"\"\"compute within cluster sum of suqares metric\"\"\"\n",
    "        \n",
    "        wcss = 0\n",
    "        for centroid in centroids:\n",
    "            for vec in centroid.assigned_vectors:\n",
    "                wcss += KMeans._euclidean_distance(vec, centroid.position)\n",
    "        return wcss\n",
    "    \n",
    "    def _compute_distances(self, X, centroids):\n",
    "        \"\"\"\n",
    "        for each vector in X, find the closest centroid and assign it to that centroid\n",
    "        \"\"\"\n",
    "        \n",
    "        # remove previously assigned vectors from each centroid\n",
    "        for centroid in centroids:\n",
    "            centroid.assigned_vectors = None\n",
    "\n",
    "        # for each point, compute distance to each centroid and keep the shortest distance\n",
    "        for x in X:\n",
    "            shortest_distance = np.inf\n",
    "            closest_centroid = None\n",
    "\n",
    "            for centroid in centroids:\n",
    "                distance = KMeans._euclidean_distance(x, centroid.position)\n",
    "                if shortest_distance > distance:\n",
    "                    shortest_distance = distance\n",
    "                    closest_centroid = centroid\n",
    "\n",
    "            # assign a point to the closest centorid\n",
    "            if closest_centroid.assigned_vectors is None:\n",
    "                closest_centroid.assigned_vectors = np.array([x])\n",
    "            else:\n",
    "                closest_centroid.assigned_vectors = np.r_[\"0,2\", \n",
    "                                                          closest_centroid.assigned_vectors, x]\n",
    "                \n",
    "    def _update_centroids(self, centroids):\n",
    "        \"\"\"\n",
    "        find a new positing of each centroid by computing mean positions \n",
    "        of all vectors from the dataset assigned to the particular centroid\n",
    "        \"\"\"\n",
    "        \n",
    "        for centroid in centroids:\n",
    "            centroid.position = centroid.assigned_vectors.mean(axis=0)\n",
    "        \n",
    "    def fit(self, X):\n",
    "        \"\"\"train the model\"\"\"\n",
    "        \n",
    "        self.wcss = np.inf\n",
    "        \n",
    "        # run the training n times to find the best solution\n",
    "        # in terms of wcss\n",
    "        for n in range(self.n_init):\n",
    "            \n",
    "            # initialize centroids\n",
    "            np.random.shuffle(X)\n",
    "            vectors = X[:self.n_clusters, :]\n",
    "            centroids = [Centroid(vec) for vec in vectors]\n",
    "            n_iter = 0\n",
    "\n",
    "            while True:\n",
    "                prev_positions = np.array([centroid.position for centroid in centroids])\n",
    "\n",
    "                self._compute_distances(X, centroids)\n",
    "                self._update_centroids(centroids)\n",
    "\n",
    "                # compute how much the centroids moved during this iteration\n",
    "                new_positions = np.array([centroid.position for centroid in centroids])\n",
    "                movements = np.array([KMeans._euclidean_distance(prev, new) for prev, new \n",
    "                                     in zip(prev_positions, new_positions)])\n",
    "\n",
    "                # if all clusters moved withing the tolerance, end the training\n",
    "                should_stop = True\n",
    "                for movement in movements:\n",
    "                    if movement > self.tol:\n",
    "                        should_stop = False\n",
    "\n",
    "                if should_stop:\n",
    "                    break\n",
    "\n",
    "                # stop if solution wasn't found in max_iter steps\n",
    "                if n_iter >= self.max_iter:\n",
    "                    break\n",
    "                n_iter += 1\n",
    "\n",
    "            # if wcss decreased, KMeans found a better solution\n",
    "            wcss = KMeans._compute_wcss(centroids)\n",
    "            if wcss < self.wcss:\n",
    "                self.centroids = centroids\n",
    "                self.wcss = wcss"
   ]
  },
  {
   "cell_type": "code",
   "execution_count": 681,
   "metadata": {},
   "outputs": [],
   "source": [
    "X = np.array([[1, 1], \n",
    "              [1, 2], \n",
    "              [2, 1], \n",
    "              [3, 3], \n",
    "              [3, 4], \n",
    "              [4, 4],\n",
    "              [4, 1],\n",
    "              [4, 2],\n",
    "              [3, 1],\n",
    "              [1.5, 3],\n",
    "              [1.5, 1.5]])"
   ]
  },
  {
   "cell_type": "code",
   "execution_count": 682,
   "metadata": {},
   "outputs": [],
   "source": [
    "kmeans = KMeans(n_clusters=3)\n",
    "kmeans.fit(X)"
   ]
  },
  {
   "cell_type": "code",
   "execution_count": 683,
   "metadata": {},
   "outputs": [
    {
     "data": {
      "image/png": "[encoded data removed]",
      "text/plain": [
       "<Figure size 576x396 with 1 Axes>"
      ]
     },
     "metadata": {},
     "output_type": "display_data"
    }
   ],
   "source": [
    "print_current_state(kmeans.centroids)"
   ]
  },
  {
   "cell_type": "code",
   "execution_count": 684,
   "metadata": {},
   "outputs": [
    {
     "data": {
      "text/plain": [
       "7.679860510931435"
      ]
     },
     "execution_count": 684,
     "metadata": {},
     "output_type": "execute_result"
    }
   ],
   "source": [
    "kmeans.wcss"
   ]
  }
 ],
 "metadata": {
  "kernelspec": {
   "display_name": "Python 3",
   "language": "python",
   "name": "python3"
  },
  "language_info": {
   "codemirror_mode": {
    "name": "ipython",
    "version": 3
   },
   "file_extension": ".py",
   "mimetype": "text/x-python",
   "name": "python",
   "nbconvert_exporter": "python",
   "pygments_lexer": "ipython3",
   "version": "3.7.6"
  }
 },
 "nbformat": 4,
 "nbformat_minor": 2
}
